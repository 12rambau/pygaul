{
 "cells": [
  {
   "cell_type": "code",
   "execution_count": null,
   "metadata": {},
   "outputs": [],
   "source": [
    "import json \n",
    "from pathlib import Path\n",
    "\n",
    "file = Path(\"pygaul\")/\"data\"/\"gaul_continent.json\"\n",
    "assert file.is_file(), \"not a file\"\n",
    "continent_dict = json.loads(file.read_text())"
   ]
  },
  {
   "cell_type": "code",
   "execution_count": null,
   "metadata": {},
   "outputs": [],
   "source": [
    "import pandas as pd \n",
    "\n",
    "file = Path(\"pygaul\")/\"data\"/\"gaul_database.parquet\"\n",
    "assert file.is_file(), \"not a file\"\n",
    "data = pd.read_parquet(file)"
   ]
  },
  {
   "cell_type": "code",
   "execution_count": null,
   "metadata": {},
   "outputs": [],
   "source": [
    "# search for duplicates \n",
    "duplicates = {}\n",
    "for continent in continent_dict:\n",
    "    duplicates[continent] = set()\n",
    "    current_set = set(continent_dict[continent])\n",
    "    for other in continent_dict:\n",
    "        if other == continent:\n",
    "            continue\n",
    "        other_list = continent_dict[other]\n",
    "        duplicates[continent] = duplicates[continent].union(current_set.intersection(other_list))\n",
    "duplicates"
   ]
  },
  {
   "cell_type": "code",
   "execution_count": null,
   "metadata": {},
   "outputs": [],
   "source": []
  },
  {
   "cell_type": "code",
   "execution_count": null,
   "metadata": {},
   "outputs": [],
   "source": []
  }
 ],
 "metadata": {
  "kernelspec": {
   "display_name": "Python 3",
   "language": "python",
   "name": "python3"
  },
  "language_info": {
   "codemirror_mode": {
    "name": "ipython",
    "version": 3
   },
   "file_extension": ".py",
   "mimetype": "text/x-python",
   "name": "python",
   "nbconvert_exporter": "python",
   "pygments_lexer": "ipython3",
   "version": "3.10.8"
  }
 },
 "nbformat": 4,
 "nbformat_minor": 2
}
