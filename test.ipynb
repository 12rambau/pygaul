{
 "cells": [
  {
   "cell_type": "code",
   "execution_count": null,
   "metadata": {},
   "outputs": [],
   "source": [
    "import ee \n",
    "from pygaul import get_items\n",
    "from sepal_ui import mapping as sm \n",
    "\n",
    "m = sm.SepalMap(zoom=5) \n",
    "m.add(sm.InspectorControl(m=m))\n",
    "\n",
    "fc = get_items(name=\"asia\")\n",
    "m.addLayer(fc, {\"color\": \"green\"}, \"continent\")\n",
    "m.centerObject(fc)\n",
    "m"
   ]
  },
  {
   "cell_type": "code",
   "execution_count": null,
   "metadata": {},
   "outputs": [],
   "source": []
  }
 ],
 "metadata": {
  "kernelspec": {
   "display_name": "Python 3",
   "language": "python",
   "name": "python3"
  },
  "language_info": {
   "codemirror_mode": {
    "name": "ipython",
    "version": 3
   },
   "file_extension": ".py",
   "mimetype": "text/x-python",
   "name": "python",
   "nbconvert_exporter": "python",
   "pygments_lexer": "ipython3",
   "version": "3.10.8"
  }
 },
 "nbformat": 4,
 "nbformat_minor": 2
}
