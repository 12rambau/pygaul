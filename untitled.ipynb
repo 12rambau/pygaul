{
 "cells": [
  {
   "cell_type": "code",
   "execution_count": null,
   "metadata": {},
   "outputs": [],
   "source": [
    "from geemap import Map\n",
    "from pygaul import get_items, get_names\n",
    "\n",
    "m = Map()\n",
    "data = get_items(name=[\"France\", \"Germany\"], content_level=1)\n",
    "m.addLayer(data, {\"color\": \"red\"}, \"aoi\")\n",
    "m.centerObject(data)\n",
    "m\n"
   ]
  },
  {
   "cell_type": "code",
   "execution_count": null,
   "metadata": {},
   "outputs": [],
   "source": [
    "fc = get_items(name=[\"france\", \"germany\"])\n",
    "coords = fc.geometry().bounds().coordinates().getInfo()\n",
    "[*coords[0][00], *coords[0][2]]"
   ]
  },
  {
   "cell_type": "code",
   "execution_count": null,
   "metadata": {},
   "outputs": [],
   "source": [
    "get_names(name=\"Singapore\", content_level=1)"
   ]
  },
  {
   "cell_type": "code",
   "execution_count": null,
   "metadata": {},
   "outputs": [],
   "source": [
    "get_items(name=[\"Singapore\"]).first().get(\"ADM0_NAME\").getInfo()"
   ]
  },
  {
   "cell_type": "code",
   "execution_count": null,
   "metadata": {},
   "outputs": [],
   "source": []
  }
 ],
 "metadata": {
  "kernelspec": {
   "display_name": "Python 3",
   "language": "python",
   "name": "python3"
  },
  "language_info": {
   "codemirror_mode": {
    "name": "ipython",
    "version": 3
   },
   "file_extension": ".py",
   "mimetype": "text/x-python",
   "name": "python",
   "nbconvert_exporter": "python",
   "pygments_lexer": "ipython3",
   "version": "3.10.6"
  }
 },
 "nbformat": 4,
 "nbformat_minor": 2
}
